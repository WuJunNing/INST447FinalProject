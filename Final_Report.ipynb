{
 "cells": [
  {
   "attachments": {},
   "cell_type": "markdown",
   "metadata": {},
   "source": [
    "# Introduction"
   ]
  },
  {
   "attachments": {},
   "cell_type": "markdown",
   "metadata": {},
   "source": [
    "Anime or Japanese animation, has become a global phenomenon in the past decade with millions of households streaming anime online (Padington and Youngs).\n",
    "New anime series are broadcasted on different streaming services quarterly and exclusive titles can bring a lot of traction to a platform. \n",
    "Some platforms are dedicated to specifically streaming anime, but services which have a variety of other programming like Netflix, Hulu, or HBO MAX, could benefit from licensing anime. \n",
    "\n",
    "For our project, we are using the website MyAnimeList and Jikan API to request data on anime titles that are released quarterly for streaming. MyAnimeList is an anime and manga database \n",
    "where users can catalog their favorite series from the database into personalized lists and socialize with a community of fans. The database tracks the new yearly releases of anime for each \n",
    "season of the year: winter, spring, summer, and fall. Using the website’s API, we can request data about the new shows released for each season of the year and combine data sets to determine \n",
    "information about top-ranking genres for the season. Unfortunately, we experienced some difficulty acquiring authentication with the official MyAnimeList API, so due to the time constraint we decided \n",
    "to use an official API called Jikan. The Jikan API returns similar data about anime in the MyAnimeList database with HTML endpoints for data related to the title, episode count, ratings, scores, and more. \n",
    "\n",
    "As such, our goal is to use this API to find the best genres of anime that appeal to the greater audience at different times of years and other metric data that could be useful in explaining anime \n",
    "preferences for streaming. The columns of interest here are our main time column ‘years’ that represents the year the anime was released. In addition, we have columns like popularity, \n",
    "ranking of the anime for that time, and a score rating out of 10. Using these, we can make comparisons across the seasons or years to show any findings on the changes of the three ratings for different genres. \n"
   ]
  },
  {
   "attachments": {},
   "cell_type": "markdown",
   "metadata": {},
   "source": [
    "# Method"
   ]
  },
  {
   "attachments": {},
   "cell_type": "markdown",
   "metadata": {},
   "source": [
    "From our API rate limit, we are focusing on creating a dataframe that takes in all the anime of the requested year from the first page of the site into a large dataframe. \n",
    "To data cleaning level 1, we check our columns for any columns that aren't easily codable. For the genre columns, we changed values with spaces and dashes into underscores. For example, we switched Sci-Fi to Sci_Fi. We also switched the index two indices to mal_id and season identifiable by the time of the year and their unique ids. \n",
    "\n",
    "To data cleaning level 2, the ‘genres’ column when imported into a dataframe stored the different genres of an anime into dictionaries in the key named “name”. Some anime have multiple genres which made it difficult to immediately start working on using the genres to sort the anime. This made visualizing them difficult as some of them would fit multiple categories. To split up the ‘genres’ column, we use a function called genreCol with a dataframe as a parameter to help divide the genre column. We first created a list called genreList that contains a list of all the genres included in the MyAnimeList API. This list is looped through in a for loop so that each iteration will be checking each genre. We then create a dictionary with each genre as a key. Next, another for loop is used to loop through the ‘genres’ column for each of the different anime in the dataframe and setting that to 0. Using another for loop, we loop through the list of dictionaries containing the genres of the anime in the ‘name’ key. If the current genre has not been found yet as noted by the dictionary value still being 0, the code checks if the genre matches and changes it to True. Otherwise the row is false if no genre is found.\n",
    "\n",
    "For data cleaning level 3, we keep the missing values in the dataframe that come from the API. These missing values are associated with genre columns that did not exist for the range of the API we were able to access within our limitations."
   ]
  },
  {
   "attachments": {},
   "cell_type": "markdown",
   "metadata": {},
   "source": [
    "# Preprocessing"
   ]
  }
 ],
 "metadata": {
  "language_info": {
   "name": "python"
  },
  "orig_nbformat": 4
 },
 "nbformat": 4,
 "nbformat_minor": 2
}
